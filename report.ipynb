{
 "cells": [
  {
   "cell_type": "markdown",
   "id": "ab819ed9-50d2-492a-9dff-6953242d98e8",
   "metadata": {},
   "source": [
    "# Housing Prices Predictions\n",
    "\n",
    "## Motivation: \n",
    "We chose a topic about housing prices because of its great importance and direct impact on individuals and the economy. The real estate market is constantly changing, and analyzing the factors that affect home prices can provide valuable insights for buyers, sellers, and investors. Through **data mining**, we can use big data to extract useful information, predicting how the prices of various properties will grow or will not change by examining their different features.\n",
    "\n",
    "## Problem: \n",
    "Our project focuses on predicting how the prices of various properties will change by examining their different features. We aim to provide useful information that will help both consumers and realtors understand whether property prices are likely to rise, or stay the same based on the specific characteristics of each property.\n",
    "\n",
    "## Goal of Collecting this Dataset: \n",
    "The goal of collecting this dataset is for **classification and clustering Techniques** to identify patterns and group properties based on their features to predict price, such as area, number of bedrooms, bathrooms, and amenities, as well as to classify properties by their furnishing status and other characteristics for more detailed analysis of the housing market.\n",
    "\n",
    "## Source of the Dataset: \n",
    "**The dataset was sourced from the kaggle website in this URL:**\n",
    "\n",
    "https://www.kaggle.com/datasets/harishkumardatalab/housing-price-prediction\n",
    "\n"
   ]
  },
  {
   "cell_type": "markdown",
   "id": "5e0238d8-de7e-4331-a0ce-ef33176576e0",
   "metadata": {},
   "source": [
    "## Read dataset:\n"
   ]
  },
  {
   "cell_type": "code",
   "execution_count": 4,
   "id": "c3cb85a9-b84f-4889-b14d-7920c80d5887",
   "metadata": {},
   "outputs": [],
   "source": [
    "import pandas as pd\n",
    "df = pd.read_csv(\"dataset/Housing.csv\")\n"
   ]
  },
  {
   "cell_type": "markdown",
   "id": "64cc927d-1db8-4118-964e-e14fcf7f610c",
   "metadata": {},
   "source": [
    "## General Information: \n",
    "\n",
    "• **Type of Attributes:** Numeric, Symmetric Binary, Ordinal."
   ]
  },
  {
   "cell_type": "code",
   "execution_count": 7,
   "id": "32548eea-9050-4fff-9a68-b81081ba47ed",
   "metadata": {},
   "outputs": [
    {
     "name": "stdout",
     "output_type": "stream",
     "text": [
      "Attributes type: \n",
      "<class 'pandas.core.frame.DataFrame'>\n",
      "RangeIndex: 545 entries, 0 to 544\n",
      "Data columns (total 13 columns):\n",
      " #   Column            Non-Null Count  Dtype \n",
      "---  ------            --------------  ----- \n",
      " 0   price             545 non-null    int64 \n",
      " 1   area              545 non-null    int64 \n",
      " 2   bedrooms          545 non-null    int64 \n",
      " 3   bathrooms         545 non-null    int64 \n",
      " 4   stories           545 non-null    int64 \n",
      " 5   mainroad          545 non-null    object\n",
      " 6   guestroom         545 non-null    object\n",
      " 7   basement          545 non-null    object\n",
      " 8   hotwaterheating   545 non-null    object\n",
      " 9   airconditioning   545 non-null    object\n",
      " 10  parking           545 non-null    int64 \n",
      " 11  prefarea          545 non-null    object\n",
      " 12  furnishingstatus  545 non-null    object\n",
      "dtypes: int64(6), object(7)\n",
      "memory usage: 55.5+ KB\n"
     ]
    }
   ],
   "source": [
    "print(\"Attributes type: \")\n",
    "df.info()"
   ]
  },
  {
   "cell_type": "markdown",
   "id": "d98118e2-875f-4b58-83b0-4e6149a775b8",
   "metadata": {},
   "source": [
    "• **Number of columns:** 13\n"
   ]
  },
  {
   "cell_type": "code",
   "execution_count": 10,
   "id": "66863687-8069-470e-88a5-f36a6b3f52c4",
   "metadata": {},
   "outputs": [
    {
     "name": "stdout",
     "output_type": "stream",
     "text": [
      "Number of attributes: 13\n"
     ]
    }
   ],
   "source": [
    "print(\"Number of attributes: \" + str(len(df.columns)))"
   ]
  },
  {
   "cell_type": "code",
   "execution_count": 12,
   "id": "996f7632-d183-433b-976b-e01ed6cde1fa",
   "metadata": {},
   "outputs": [
    {
     "data": {
      "text/plain": [
       "Index(['price', 'area', 'bedrooms', 'bathrooms', 'stories', 'mainroad',\n",
       "       'guestroom', 'basement', 'hotwaterheating', 'airconditioning',\n",
       "       'parking', 'prefarea', 'furnishingstatus'],\n",
       "      dtype='object')"
      ]
     },
     "execution_count": 12,
     "metadata": {},
     "output_type": "execute_result"
    }
   ],
   "source": [
    "df.columns\n"
   ]
  },
  {
   "cell_type": "markdown",
   "id": "69f65a9b-07dc-41ef-8ac5-8f67e5273d7e",
   "metadata": {},
   "source": [
    "• **Number of rows:** 545"
   ]
  },
  {
   "cell_type": "code",
   "execution_count": 15,
   "id": "26edd448-d2b5-460e-b548-e838f89aa711",
   "metadata": {},
   "outputs": [
    {
     "name": "stdout",
     "output_type": "stream",
     "text": [
      "Number of objects: 545\n"
     ]
    }
   ],
   "source": [
    "print(\"Number of objects: \" + str(len(df)))"
   ]
  },
  {
   "cell_type": "markdown",
   "id": "2288e35e-65fc-4b5e-b1b0-ad11f9f9d6ea",
   "metadata": {},
   "source": [
    "• **Class Label:** predicting how the prices of various properties will change by examining their different features. "
   ]
  },
  {
   "cell_type": "markdown",
   "id": "1c5ec83d-b1eb-4750-8a9a-f51dbb335132",
   "metadata": {},
   "source": [
    "## About Dataset:\n"
   ]
  },
  {
   "cell_type": "markdown",
   "id": "1271e031-5cf3-4b4a-bd14-19e0c2df5e80",
   "metadata": {},
   "source": [
    "\n",
    "• **Price:** The price of the house.\n",
    "\n",
    "• **Area:** The total area of the house in square feet.\n",
    "\n",
    "• **Bedrooms:** The number of bedrooms in the house.\n",
    "\n",
    "• **Bathrooms:** The number of bathrooms in the house.\n",
    "\n",
    "• **Stories:** The number of stories in the house.\n",
    "\n",
    "• **Mainroad:** Whether the house is connected to the main road (Yes/No).\n",
    "\n",
    "• **Guestroom:** Whether the house has a guest room (Yes/No).\n",
    "\n",
    "• **Basement:** Whether the house has a basement (Yes/No).\n",
    "\n",
    "• **Hot water heating:** Whether the house has a hot water heating system (Yes/No).\n",
    "\n",
    "• **Airconditioning:** Whether the house has an air conditioning system (Yes/No).\n",
    "\n",
    "• **Parking:** The number of parking spaces available within the house.\n",
    "\n",
    "• **Prefarea:** Whether the house is located in a preferred area (Yes/No).\n",
    "\n",
    "• **Furnishing status:** The furnishing status of the house (Fully Furnished, Semi-Furnished, Unfurnished).\n",
    "\n",
    "\n"
   ]
  },
  {
   "cell_type": "code",
   "execution_count": 20,
   "id": "af0ac10f-ae01-4b0d-8aa2-cca6deb52c02",
   "metadata": {},
   "outputs": [
    {
     "data": {
      "text/html": [
       "<div>\n",
       "<style scoped>\n",
       "    .dataframe tbody tr th:only-of-type {\n",
       "        vertical-align: middle;\n",
       "    }\n",
       "\n",
       "    .dataframe tbody tr th {\n",
       "        vertical-align: top;\n",
       "    }\n",
       "\n",
       "    .dataframe thead th {\n",
       "        text-align: right;\n",
       "    }\n",
       "</style>\n",
       "<table border=\"1\" class=\"dataframe\">\n",
       "  <thead>\n",
       "    <tr style=\"text-align: right;\">\n",
       "      <th></th>\n",
       "      <th>price</th>\n",
       "      <th>area</th>\n",
       "      <th>bedrooms</th>\n",
       "      <th>bathrooms</th>\n",
       "      <th>stories</th>\n",
       "      <th>parking</th>\n",
       "    </tr>\n",
       "  </thead>\n",
       "  <tbody>\n",
       "    <tr>\n",
       "      <th>count</th>\n",
       "      <td>5.450000e+02</td>\n",
       "      <td>545.000000</td>\n",
       "      <td>545.000000</td>\n",
       "      <td>545.000000</td>\n",
       "      <td>545.000000</td>\n",
       "      <td>545.000000</td>\n",
       "    </tr>\n",
       "    <tr>\n",
       "      <th>mean</th>\n",
       "      <td>4.766729e+06</td>\n",
       "      <td>5150.541284</td>\n",
       "      <td>2.965138</td>\n",
       "      <td>1.286239</td>\n",
       "      <td>1.805505</td>\n",
       "      <td>0.693578</td>\n",
       "    </tr>\n",
       "    <tr>\n",
       "      <th>std</th>\n",
       "      <td>1.870440e+06</td>\n",
       "      <td>2170.141023</td>\n",
       "      <td>0.738064</td>\n",
       "      <td>0.502470</td>\n",
       "      <td>0.867492</td>\n",
       "      <td>0.861586</td>\n",
       "    </tr>\n",
       "    <tr>\n",
       "      <th>min</th>\n",
       "      <td>1.750000e+06</td>\n",
       "      <td>1650.000000</td>\n",
       "      <td>1.000000</td>\n",
       "      <td>1.000000</td>\n",
       "      <td>1.000000</td>\n",
       "      <td>0.000000</td>\n",
       "    </tr>\n",
       "    <tr>\n",
       "      <th>25%</th>\n",
       "      <td>3.430000e+06</td>\n",
       "      <td>3600.000000</td>\n",
       "      <td>2.000000</td>\n",
       "      <td>1.000000</td>\n",
       "      <td>1.000000</td>\n",
       "      <td>0.000000</td>\n",
       "    </tr>\n",
       "    <tr>\n",
       "      <th>50%</th>\n",
       "      <td>4.340000e+06</td>\n",
       "      <td>4600.000000</td>\n",
       "      <td>3.000000</td>\n",
       "      <td>1.000000</td>\n",
       "      <td>2.000000</td>\n",
       "      <td>0.000000</td>\n",
       "    </tr>\n",
       "    <tr>\n",
       "      <th>75%</th>\n",
       "      <td>5.740000e+06</td>\n",
       "      <td>6360.000000</td>\n",
       "      <td>3.000000</td>\n",
       "      <td>2.000000</td>\n",
       "      <td>2.000000</td>\n",
       "      <td>1.000000</td>\n",
       "    </tr>\n",
       "    <tr>\n",
       "      <th>max</th>\n",
       "      <td>1.330000e+07</td>\n",
       "      <td>16200.000000</td>\n",
       "      <td>6.000000</td>\n",
       "      <td>4.000000</td>\n",
       "      <td>4.000000</td>\n",
       "      <td>3.000000</td>\n",
       "    </tr>\n",
       "  </tbody>\n",
       "</table>\n",
       "</div>"
      ],
      "text/plain": [
       "              price          area    bedrooms   bathrooms     stories  \\\n",
       "count  5.450000e+02    545.000000  545.000000  545.000000  545.000000   \n",
       "mean   4.766729e+06   5150.541284    2.965138    1.286239    1.805505   \n",
       "std    1.870440e+06   2170.141023    0.738064    0.502470    0.867492   \n",
       "min    1.750000e+06   1650.000000    1.000000    1.000000    1.000000   \n",
       "25%    3.430000e+06   3600.000000    2.000000    1.000000    1.000000   \n",
       "50%    4.340000e+06   4600.000000    3.000000    1.000000    2.000000   \n",
       "75%    5.740000e+06   6360.000000    3.000000    2.000000    2.000000   \n",
       "max    1.330000e+07  16200.000000    6.000000    4.000000    4.000000   \n",
       "\n",
       "          parking  \n",
       "count  545.000000  \n",
       "mean     0.693578  \n",
       "std      0.861586  \n",
       "min      0.000000  \n",
       "25%      0.000000  \n",
       "50%      0.000000  \n",
       "75%      1.000000  \n",
       "max      3.000000  "
      ]
     },
     "execution_count": 20,
     "metadata": {},
     "output_type": "execute_result"
    }
   ],
   "source": [
    "df.describe()"
   ]
  },
  
 ],
 "metadata": {
  "kernelspec": {
   "display_name": "Python 3 (ipykernel)",
   "language": "python",
   "name": "python3"
  },
  "language_info": {
   "codemirror_mode": {
    "name": "ipython",
    "version": 3
   },
   "file_extension": ".py",
   "mimetype": "text/x-python",
   "name": "python",
   "nbconvert_exporter": "python",
   "pygments_lexer": "ipython3",
   "version": "3.12.4"
  }
 },
 "nbformat": 4,
 "nbformat_minor": 5
}

